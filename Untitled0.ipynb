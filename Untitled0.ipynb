{
  "nbformat": 4,
  "nbformat_minor": 0,
  "metadata": {
    "colab": {
      "name": "Untitled0.ipynb",
      "provenance": [],
      "authorship_tag": "ABX9TyNdYdJNYPQ+AtdqopImIS46"
    },
    "kernelspec": {
      "name": "python3",
      "display_name": "Python 3"
    }
  },
  "cells": [
    {
      "cell_type": "code",
      "metadata": {
        "id": "VCQ7JUYYz0SD",
        "colab_type": "code",
        "colab": {}
      },
      "source": [
        "from keras.datasets import mnist \n",
        "from keras.utils import to_categorical \n",
        "(X,y),(Xt,yt)=mnist.load_data()\n",
        "X=X.reshape((60000,28,28,1))\n",
        "X=X.astype(\"float32\")/255\n",
        "Xt=Xt.reshape((10000,28,28,1))\n",
        "Xt=Xt.astype(\"float32\")/255\n",
        "y=to_categorical(y)\n",
        "yt=to_categorical(yt)\n",
        "from keras import layers \n",
        "from keras import models \n",
        "model=models.Sequential()\n",
        "model.add(layers.Conv2D(32,(3,3),activation=\"relu\",input_shape=(28,28,1)))\n",
        "model.add(layers.MaxPooling2D((2,2)))\n",
        "model.add(layers.Conv2D(64,(3,3),activation=\"relu\"))\n",
        "model.add(layers.MaxPooling2D((2,2)))\n",
        "model.add(layers.Conv2D(64,(3,3),activation=\"relu\"))\n",
        "model.add(layers.Flatten())\n",
        "model.add(layers.Dense(64,activation=\"relu\"))\n",
        "model.add(layers.Dense(10,activation=\"softmax\"))\n",
        "model.summary()\n",
        "model.compile(optimizer=\"rmsprop\",loss=\"categorical_crossentropy\",metrics=[\"accuracy\"])\n",
        "model.fit(X,y,epochs=5,batch_size=64)\n",
        "yp=model.predict(Xt)\n",
        "print(model.evaluate(Xt,yt))\n"
      ],
      "execution_count": null,
      "outputs": []
    },
    {
      "cell_type": "code",
      "metadata": {
        "id": "G9nrq5GO2HLh",
        "colab_type": "code",
        "colab": {}
      },
      "source": [
        ""
      ],
      "execution_count": null,
      "outputs": []
    }
  ]
}